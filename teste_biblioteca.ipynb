{
 "cells": [
  {
   "cell_type": "code",
   "execution_count": 2,
   "metadata": {},
   "outputs": [],
   "source": [
    "import formulario\n",
    "import sympy as sym\n",
    "import numpy as np"
   ]
  },
  {
   "cell_type": "markdown",
   "metadata": {},
   "source": [
    "# **TESTE SYMPY**"
   ]
  },
  {
   "cell_type": "code",
   "execution_count": 15,
   "metadata": {},
   "outputs": [
    {
     "data": {
      "text/latex": [
       "$\\displaystyle \\frac{8991804694.45737 Q_{1} Q_{2}}{r^{2}}$"
      ],
      "text/plain": [
       "8991804694.45737*Q1*Q2/r**2"
      ]
     },
     "execution_count": 15,
     "metadata": {},
     "output_type": "execute_result"
    }
   ],
   "source": [
    "x, y, perm_ele, Q1, Q2, r, forca_eletroestatica = sym.symbols('x y ε Q1 Q2 r |F|')\n",
    "perm_ele = 8.85*10**(-12)\n",
    "forca_eletroestatica = (1/(4*np.pi*perm_ele))*((Q1*Q2)/r**2)\n",
    "forca_eletroestatica"
   ]
  },
  {
   "cell_type": "code",
   "execution_count": 17,
   "metadata": {},
   "outputs": [
    {
     "data": {
      "text/plain": [
       "[{Q1: 0.0}, {Q2: 0.0}]"
      ]
     },
     "execution_count": 17,
     "metadata": {},
     "output_type": "execute_result"
    }
   ],
   "source": [
    "sym.solve(forca_eletroestatica, Q1=2, Q2=3, r=5)\n",
    "forca_eletroestatica.subs()"
   ]
  },
  {
   "cell_type": "markdown",
   "metadata": {},
   "source": [
    "# **TESTE DA BIBLIOTECA**"
   ]
  },
  {
   "cell_type": "code",
   "execution_count": 2,
   "metadata": {},
   "outputs": [
    {
     "name": "stdout",
     "output_type": "stream",
     "text": [
      "Eletromagnetismo é uma área que estuda (de modo mais fundamental) os fenômenos decorrentes da emissão, troca e absorção de particulas elétricas.\n",
      "\n",
      "Como seria a vida humana sem eletricidade? Praticamente tudo que fazemos hoje está relacionado com aparelhos eletrônicos, e para que esses aparelhos possam funcionar corretamente, foi necessário desenvolver um estudo em cima do tema \"eletricidade\" e realmente entender como ela se comporta para que todos os apralhos que usamos hoje pudessem ser contruídos. Essa é uma das motivações para o engenheiro e os fisicos estudarem tanto o tema, mas ainda, se pararmos para perceber, tudo a nossa volta é constituído de átomos. Os átmos são contituidos de prótons, neutrôns e elétrons, que é literalmente a energia elétrica, ou seja, tudo a nossa volta é feito de um amontoado de cargas elétricas, também sendo uma grande motivação de estudo desse tema, onde nós não apenas iremos entender como os aparelhos elétricos funcionam, mas também como tudo a nossa volta.\n"
     ]
    }
   ],
   "source": [
    "form = formulario.Formulario()\n",
    "print(form.eletromag)\n",
    "print('\\n'+form.motivacao)"
   ]
  },
  {
   "cell_type": "code",
   "execution_count": 3,
   "metadata": {},
   "outputs": [
    {
     "data": {
      "text/plain": [
       "-3.125e+20"
      ]
     },
     "execution_count": 3,
     "metadata": {},
     "output_type": "execute_result"
    }
   ],
   "source": [
    "form.quant_particula(50)"
   ]
  }
 ],
 "metadata": {
  "interpreter": {
   "hash": "43d71e64c777a16c1f00310747f076f57a7c50c9bb4a2029e51399bef4c31519"
  },
  "kernelspec": {
   "display_name": "Python 3.9.7 ('facul')",
   "language": "python",
   "name": "python3"
  },
  "language_info": {
   "codemirror_mode": {
    "name": "ipython",
    "version": 3
   },
   "file_extension": ".py",
   "mimetype": "text/x-python",
   "name": "python",
   "nbconvert_exporter": "python",
   "pygments_lexer": "ipython3",
   "version": "3.9.7"
  },
  "orig_nbformat": 4
 },
 "nbformat": 4,
 "nbformat_minor": 2
}
